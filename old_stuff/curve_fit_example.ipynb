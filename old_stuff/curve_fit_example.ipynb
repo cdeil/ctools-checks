{
 "metadata": {
  "name": ""
 },
 "nbformat": 3,
 "nbformat_minor": 0,
 "worksheets": [
  {
   "cells": [
    {
     "cell_type": "code",
     "collapsed": false,
     "input": [
      "import numpy as np\n",
      "from scipy.optimize import curve_fit\n",
      "\n",
      "xx = np.array([1,2,3,4,5,6,7,8,9,10])\n",
      "yy = np.array([1.56,1.20,1.10,0.74,0.57,0.55,0.31,0.27,0.28,0.11])\n",
      "dy = np.array([0.02,0.02,0.20,0.03,0.03,0.10,0.05,0.02,0.10,0.05])\n",
      "\n",
      "def f(x, A, B):\n",
      "    return A * np.exp(B * x)\n",
      "\n",
      "popt, pcov = curve_fit(f, xx, yy, p0=[1, -1], sigma=dy)\n",
      "\n",
      "print('A = {0} +- {1}'.format(popt[0], np.sqrt(pcov[0, 0])))\n",
      "print('B = {0} +- {1}'.format(popt[1], np.sqrt(pcov[1, 1])))"
     ],
     "language": "python",
     "metadata": {},
     "outputs": [
      {
       "output_type": "stream",
       "stream": "stdout",
       "text": [
        "A = 2.00172814207 +- 0.0230925655458\n",
        "B = -0.251908407064 +- 0.00513994865111\n"
       ]
      }
     ],
     "prompt_number": 1
    }
   ],
   "metadata": {}
  }
 ]
}