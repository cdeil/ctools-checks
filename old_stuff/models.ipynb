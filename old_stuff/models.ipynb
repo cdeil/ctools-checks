{
 "metadata": {
  "name": ""
 },
 "nbformat": 3,
 "nbformat_minor": 0,
 "worksheets": [
  {
   "cells": [
    {
     "cell_type": "code",
     "collapsed": false,
     "input": [
      "from gammalib import GEnergy, GModelSpectralPlaw\n",
      "\n",
      "# HESS 2006 publication Crab spectrum (2006A&A...457..899A)\n",
      "e0 = GEnergy(1, 'TeV')\n",
      "diff_flux = 3.45e-17 # cm^-2 sec^-1 MeV^-1\n",
      "spectral_index = -2.63\n",
      "power_law = GModelSpectralPlaw(diff_flux, spectral_index, e0)\n",
      "\n",
      "# Compute integral flux in 1 to 10 TeV energy band\n",
      "emin = GEnergy(1, 'TeV')\n",
      "emax = GEnergy(10, 'TeV')\n",
      "int_flux = power_law.flux(emin, emax)\n",
      "print(int_flux) # cm^-2 sec^-1"
     ],
     "language": "python",
     "metadata": {},
     "outputs": [
      {
       "output_type": "stream",
       "stream": "stdout",
       "text": [
        "2.06694730422e-11\n"
       ]
      }
     ],
     "prompt_number": 1
    },
    {
     "cell_type": "code",
     "collapsed": false,
     "input": [
      "import gammalib\n",
      "\n",
      "# Create a SNR shell model\n",
      "center = gammalib.GSkyDir()\n",
      "center.radec_deg(0.3, 0.1)\n",
      "model = gammalib.GModelSpatialRadialShell(center, 0.5, 0.1)\n",
      "\n",
      "# Make an empty sky map\n",
      "# (cartesian projection, celestial coordinates)\n",
      "ra, dec, binsz, npix = 0, 0, 0.01, 300\n",
      "image = gammalib.GSkymap(\"CAR\", \"CEL\", ra, dec,\n",
      "                         -binsz, binsz, npix, npix, 1)\n",
      "\n",
      "# Fill the sky map with the model image\n",
      "energy = gammalib.GEnergy()\n",
      "time   = gammalib.GTime()\n",
      "for inx in range(image.npix()):\n",
      "    dir = image.inx2dir(inx)\n",
      "    theta = center.dist(dir)\n",
      "    image[inx] = model.eval(theta, energy, time)\n",
      "\n",
      "# Save the image to a FITS file\n",
      "image.save('shell.fits', True)"
     ],
     "language": "python",
     "metadata": {},
     "outputs": [],
     "prompt_number": 2
    },
    {
     "cell_type": "code",
     "collapsed": false,
     "input": [
      "import numpy as np\n",
      "import gammalib\n",
      "\n",
      "# Create a SNR shell model\n",
      "center = gammalib.GSkyDir()\n",
      "center.radec_deg(0.3, 0.1)\n",
      "model = gammalib.GModelSpatialRadialShell(center, 0.5, 0.2)\n",
      "\n",
      "energy = gammalib.GEnergy()\n",
      "time   = gammalib.GTime()\n",
      "\n",
      "thetas = [0.0, 0.4, 0.5, 0.6, 0.7, 0.8]\n",
      "\n",
      "for theta in thetas:\n",
      "    intensity = model.eval(np.radians(theta), energy, time)\n",
      "    print theta, intensity"
     ],
     "language": "python",
     "metadata": {},
     "outputs": [
      {
       "output_type": "stream",
       "stream": "stdout",
       "text": [
        "0.0 1438.00419583\n",
        "0.4 1973.34630072\n",
        "0.5 3522.37652776\n",
        "0.6 2592.3989312\n",
        "0.7 0.0\n",
        "0.8 0.0\n"
       ]
      }
     ],
     "prompt_number": 3
    },
    {
     "cell_type": "code",
     "collapsed": false,
     "input": [],
     "language": "python",
     "metadata": {},
     "outputs": []
    }
   ],
   "metadata": {}
  }
 ]
}