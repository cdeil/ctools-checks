{
 "metadata": {
  "name": "angle_rotation"
 },
 "nbformat": 3,
 "nbformat_minor": 0,
 "worksheets": [
  {
   "cells": [
    {
     "cell_type": "heading",
     "level": 1,
     "metadata": {},
     "source": [
      "Rotations with gammalib"
     ]
    },
    {
     "cell_type": "markdown",
     "metadata": {},
     "source": [
      "This shows an example of how to rotate a given point around a center by a given angle."
     ]
    },
    {
     "cell_type": "code",
     "collapsed": false,
     "input": [
      "import gammalib\n",
      "\n",
      "def rotate(center, point, rot_angle):\n",
      "    \"\"\"\n",
      "    Rotate point clockwise around center by a given rotation angle on the sphere.\n",
      "    \n",
      "    Input:\n",
      "    center -- GSkyDir\n",
      "    point -- GSkyDir\n",
      "    rot_angle -- rotation angle in deg\n",
      "    Output:\n",
      "    Copy of point with rotated coordinates\n",
      "    \"\"\"\n",
      "    delta = center.dist_deg(point)\n",
      "    pos_angle = center.posang_deg(point)\n",
      "    phi = rot_angle + pos_angle\n",
      "\n",
      "    new_point = center.copy()\n",
      "    new_point.rotate_deg(phi, delta)\n",
      "    return new_point\n",
      "\n",
      "def test_rotate():\n",
      "    \"\"\"Example test case\"\"\"\n",
      "    run_dir = gammalib.GSkyDir()\n",
      "    reg_dir = gammalib.GSkyDir()\n",
      "    run_dir.radec_deg(0, 90)\n",
      "    reg_dir.radec_deg(0, 90)\n",
      "    rot_angle = 10\n",
      "    rot_dir = rotate(center=run_dir, point=reg_dir, rot_angle=rot_angle)\n",
      "    print('rot_dir: {0}'.format(rot_dir))\n",
      "\n",
      "\n",
      "test_rotate()"
     ],
     "language": "python",
     "metadata": {},
     "outputs": [
      {
       "output_type": "stream",
       "stream": "stdout",
       "text": [
        "rot_dir: (RA,Dec)=(0,90)\n"
       ]
      }
     ],
     "prompt_number": 4
    },
    {
     "cell_type": "code",
     "collapsed": false,
     "input": [
      "# Example illustrating how GSkyDir.posang_deg works\n",
      "center = gammalib.GSkyDir()\n",
      "center.radec_deg(0, 0)\n",
      "point = gammalib.GSkyDir()\n",
      "point.radec_deg(-1, 0)\n",
      "print center.posang_deg(point)"
     ],
     "language": "python",
     "metadata": {},
     "outputs": [
      {
       "output_type": "stream",
       "stream": "stdout",
       "text": [
        "-90.0\n"
       ]
      }
     ],
     "prompt_number": 107
    },
    {
     "cell_type": "code",
     "collapsed": false,
     "input": [
      "# Example illustrating how GSkyDir.rotate_deg works\n",
      "point = gammalib.GSkyDir()\n",
      "point.radec_deg(10, 0) # alpha, delta\n",
      "point.rotate_deg(90, 10) # phi, theta\n",
      "print point"
     ],
     "language": "python",
     "metadata": {},
     "outputs": [
      {
       "output_type": "stream",
       "stream": "stdout",
       "text": [
        "(RA,Dec)=(20,4.06427e-15)\n"
       ]
      }
     ],
     "prompt_number": 100
    },
    {
     "cell_type": "code",
     "collapsed": false,
     "input": [],
     "language": "python",
     "metadata": {},
     "outputs": []
    }
   ],
   "metadata": {}
  }
 ]
}