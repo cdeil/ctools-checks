{
 "metadata": {
  "name": ""
 },
 "nbformat": 3,
 "nbformat_minor": 0,
 "worksheets": [
  {
   "cells": [
    {
     "cell_type": "code",
     "collapsed": false,
     "input": [
      "from gammalib import GEnergy, GModelSpectralPlaw\n",
      "\n",
      "# HESS 2006 publication Crab spectrum (2006A&A...457..899A)\n",
      "e0 = GEnergy(1, 'TeV')\n",
      "diff_flux = 3.45e-17 # cm^-2 sec^-1 MeV^-1\n",
      "spectral_index = -2.63\n",
      "power_law = GModelSpectralPlaw(diff_flux, spectral_index, e0)\n",
      "\n",
      "# Compute integral flux in 1 to 10 TeV energy band\n",
      "emin = GEnergy(1, 'TeV')\n",
      "emax = GEnergy(10, 'TeV')\n",
      "int_flux = power_law.flux(emin, emax)\n",
      "print(int_flux) # cm^-2 sec^-1"
     ],
     "language": "python",
     "metadata": {},
     "outputs": [
      {
       "output_type": "stream",
       "stream": "stdout",
       "text": [
        "2.06694730422e-11\n"
       ]
      }
     ],
     "prompt_number": 21
    },
    {
     "cell_type": "code",
     "collapsed": false,
     "input": [
      "import gammalib\n",
      "\n",
      "# Create a SNR shell model\n",
      "center = gammalib.GSkyDir()\n",
      "center.radec_deg(0.3, 0.1)\n",
      "model = gammalib.GModelSpatialRadialShell(center, 0.5, 0.1)\n",
      "\n",
      "# Make an empty sky map\n",
      "# (cartesian projection, celestial coordinates)\n",
      "ra, dec, binsz, npix = 0, 0, 0.01, 300\n",
      "image = gammalib.GSkymap(\"CAR\", \"CEL\", ra, dec,\n",
      "                         -binsz, binsz, npix, npix, 1)\n",
      "\n",
      "# Fill the sky map with the model image\n",
      "energy = gammalib.GEnergy()\n",
      "time   = gammalib.GTime()\n",
      "for pix in range(image.npix()):\n",
      "    dir = image.pix2dir(pix)\n",
      "    theta = center.dist(dir)\n",
      "    image[pix] = model.eval(theta, energy, time)\n",
      "\n",
      "# Save the image to a FITS file\n",
      "image.save('shell.fits')"
     ],
     "language": "python",
     "metadata": {},
     "outputs": [],
     "prompt_number": 9
    }
   ],
   "metadata": {}
  }
 ]
}